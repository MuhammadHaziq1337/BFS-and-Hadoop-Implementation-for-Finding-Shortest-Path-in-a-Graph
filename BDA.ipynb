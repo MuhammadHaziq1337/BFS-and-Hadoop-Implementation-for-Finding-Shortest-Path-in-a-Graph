{
 "cells": [
  {
   "cell_type": "code",
   "execution_count": 85,
   "metadata": {},
   "outputs": [],
   "source": [
    "def read_graph(fp):\n",
    "    # Initialize an empty dictionary to store nodes and their edges\n",
    "    nodes_dict = {}\n",
    "    # Open the input file in read mode\n",
    "    with open(fp, 'r') as f:\n",
    "        # Iterate through each line in the file\n",
    "        for line in f:\n",
    "            # Ignore lines starting with \"#\" as they are comments\n",
    "            if line.startswith(\"#\"):\n",
    "                continue\n",
    "            # Extract the source and target nodes from the line, and convert them to integers\n",
    "            source, target = map(int, line.split(\"\\t\"))\n",
    "            # Check if the source node already exists in the dictionary\n",
    "            if source in nodes_dict:\n",
    "                # If it does, add the target node to the list of edges for that source node\n",
    "                nodes_dict[source].append(target)\n",
    "            else:\n",
    "                # If it doesn't, add the source node to the dictionary with the target node as its first edge\n",
    "                nodes_dict[source] = [target]\n",
    "    # Return the final dictionary of nodes and their edges\n",
    "    return nodes_dict"
   ]
  },
  {
   "cell_type": "code",
   "execution_count": null,
   "metadata": {},
   "outputs": [],
   "source": []
  },
  {
   "cell_type": "code",
   "execution_count": 87,
   "metadata": {},
   "outputs": [],
   "source": [
    "graph = read_graph('soc-LiveJournal1.txt')"
   ]
  },
  {
   "cell_type": "code",
   "execution_count": 75,
   "metadata": {},
   "outputs": [
    {
     "name": "stdout",
     "output_type": "stream",
     "text": [
      "[1078, 1150, 7569, 23194, 45920, 47904, 52878, 57637, 64378, 67238, 67309, 75415, 76070, 76777, 76791, 128126, 153205, 175163, 211448, 211451, 215719, 225196, 237777, 240894, 310522, 373564, 379904, 379922, 387244, 402461, 443262, 497201, 511478, 519028, 638979, 657700, 758870, 759712, 762952, 789304, 804970, 862204, 871346, 875076, 905575, 948374, 950234, 1083428, 1087000, 1119606, 1200069, 1222993, 2178721, 2434403, 2545835]\n"
     ]
    }
   ],
   "source": [
    "print (graph[1147]) #example of how nodes are showed. The index is the node and its elements are all connected nodes\n"
   ]
  },
  {
   "cell_type": "code",
   "execution_count": 108,
   "metadata": {},
   "outputs": [],
   "source": [
    "class Heap:\n",
    "    def __init__(self):\n",
    "        self.heap = []\n",
    "\n",
    "    def push(self, node, priority):\n",
    "        self.heap.append((priority, node))\n",
    "        self._bubble_up(len(self.heap) - 1)\n",
    "\n",
    "    def pop(self):\n",
    "        if len(self.heap) > 1:\n",
    "            self._swap(0, len(self.heap) - 1)\n",
    "        priority, node = self.heap.pop()\n",
    "        self._bubble_down(0)\n",
    "        return node, priority\n",
    "\n",
    "    def _bubble_up(self, index):\n",
    "        if index == 0:\n",
    "            return\n",
    "        parent_index = (index - 1) // 2\n",
    "        if self.heap[parent_index][0] > self.heap[index][0]:\n",
    "            self._swap(parent_index, index)\n",
    "            self._bubble_up(parent_index)\n",
    "\n",
    "    def _bubble_down(self, index):\n",
    "        left_child_index = 2 * index + 1\n",
    "        right_child_index = 2 * index + 2\n",
    "        min_index = index\n",
    "        if left_child_index < len(self.heap) and self.heap[left_child_index][0] < self.heap[min_index][0]:\n",
    "            min_index = left_child_index\n",
    "        if right_child_index < len(self.heap) and self.heap[right_child_index][0] < self.heap[min_index][0]:\n",
    "            min_index = right_child_index\n",
    "        if min_index != index:\n",
    "            self._swap(index, min_index)\n",
    "            self._bubble_down(min_index)\n",
    "\n",
    "    def _swap(self, i, j):\n",
    "        self.heap[i], self.heap[j] = self.heap[j], self.heap[i]\n"
   ]
  },
  {
   "cell_type": "code",
   "execution_count": 111,
   "metadata": {},
   "outputs": [],
   "source": [
    "def bfs(graph, start, end):\n",
    "    # Initialize the heap with the start node and its distance\n",
    "    heap = Heap()\n",
    "    heap.push(start, 0)\n",
    "    # Initialize the distances dictionary with the start node\n",
    "    distances = {start: 0}\n",
    "    # Initialize the predecessors dictionary\n",
    "    predecessors = {start: None}\n",
    "\n",
    "    while heap.heap:\n",
    "        curr_node, curr_dist = heap.pop()\n",
    "        if curr_node == end:\n",
    "            # Build the path from start to end\n",
    "            path = [end]\n",
    "            while predecessors[path[0]] is not None:\n",
    "                path.insert(0, predecessors[path[0]])\n",
    "            return path\n",
    "\n",
    "        for neighbor in graph.get(curr_node, []):\n",
    "            if neighbor not in distances:\n",
    "                distances[neighbor] = float('inf')\n",
    "            new_dist = curr_dist + 1\n",
    "            if new_dist < distances[neighbor]:\n",
    "                distances[neighbor] = new_dist\n",
    "                heap.push(neighbor, new_dist)\n",
    "                predecessors[neighbor] = curr_node\n",
    "\n",
    "    return None\n"
   ]
  },
  {
   "cell_type": "code",
   "execution_count": 112,
   "metadata": {},
   "outputs": [
    {
     "data": {
      "text/plain": [
       "4308452"
      ]
     },
     "execution_count": 112,
     "metadata": {},
     "output_type": "execute_result"
    }
   ],
   "source": [
    "size = len(graph)\n",
    "size"
   ]
  },
  {
   "cell_type": "code",
   "execution_count": 114,
   "metadata": {},
   "outputs": [
    {
     "name": "stdout",
     "output_type": "stream",
     "text": [
      "Processed node 1 of 4308452\n",
      "Processed node 2 of 4308452\n",
      "Processed node 3 of 4308452\n",
      "Processed node 4 of 4308452\n",
      "Processed node 5 of 4308452\n",
      "Processed node 6 of 4308452\n",
      "Processed node 7 of 4308452\n",
      "Processed node 8 of 4308452\n",
      "\n",
      "Program interrupted. Saving progress up to node 8 of 4308452\n"
     ]
    }
   ],
   "source": [
    "import csv\n",
    "\n",
    "# Define the name of the output file\n",
    "output_file = \"shortest_paths_21i1675.csv\"\n",
    "\n",
    "# Initialize a 2D list to store the shortest paths\n",
    "shortest_paths = []\n",
    "\n",
    "try:\n",
    "    # Loop over all nodes in the graph\n",
    "    for i in range(size):\n",
    "        # Compute the shortest path from node 1675 to node i\n",
    "        shortest_path_1675 = bfs(graph, 1675, i)\n",
    "\n",
    "        # Add the shortest path to the list of shortest paths\n",
    "        shortest_paths.append(shortest_path_1675)\n",
    "\n",
    "        # Print progress after processing each node\n",
    "        print(f\"Processed node {i+1} of {size}\")\n",
    "\n",
    "except KeyboardInterrupt:\n",
    "    # If the program is interrupted, save the progress up to the last processed node\n",
    "    print(f\"\\nProgram interrupted. Saving progress up to node {i} of {size}\")\n",
    "\n",
    "# Open the output file in write mode\n",
    "with open(output_file, 'w', newline='') as file:\n",
    "    writer = csv.writer(file)\n",
    "\n",
    "    # Write all the shortest paths to the output file\n",
    "    writer.writerows(shortest_paths)\n"
   ]
  },
  {
   "cell_type": "code",
   "execution_count": null,
   "metadata": {},
   "outputs": [],
   "source": []
  }
 ],
 "metadata": {
  "kernelspec": {
   "display_name": "Python 3",
   "language": "python",
   "name": "python3"
  },
  "language_info": {
   "codemirror_mode": {
    "name": "ipython",
    "version": 3
   },
   "file_extension": ".py",
   "mimetype": "text/x-python",
   "name": "python",
   "nbconvert_exporter": "python",
   "pygments_lexer": "ipython3",
   "version": "3.11.1"
  },
  "orig_nbformat": 4,
  "vscode": {
   "interpreter": {
    "hash": "5f87a6cc69683745101f5cf8fc8fee81827f494883c23d1befe6caeda7eb7947"
   }
  }
 },
 "nbformat": 4,
 "nbformat_minor": 2
}
